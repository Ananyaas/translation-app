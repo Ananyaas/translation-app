{
 "cells": [
  {
   "cell_type": "code",
   "execution_count": 1,
   "metadata": {},
   "outputs": [
    {
     "name": "stdout",
     "output_type": "stream",
     "text": [
      "{'af': 'afrikaans', 'sq': 'albanian', 'am': 'amharic', 'ar': 'arabic', 'hy': 'armenian', 'az': 'azerbaijani', 'eu': 'basque', 'be': 'belarusian', 'bn': 'bengali', 'bs': 'bosnian', 'bg': 'bulgarian', 'ca': 'catalan', 'ceb': 'cebuano', 'ny': 'chichewa', 'zh-cn': 'chinese (simplified)', 'zh-tw': 'chinese (traditional)', 'co': 'corsican', 'hr': 'croatian', 'cs': 'czech', 'da': 'danish', 'nl': 'dutch', 'en': 'english', 'eo': 'esperanto', 'et': 'estonian', 'tl': 'filipino', 'fi': 'finnish', 'fr': 'french', 'fy': 'frisian', 'gl': 'galician', 'ka': 'georgian', 'de': 'german', 'el': 'greek', 'gu': 'gujarati', 'ht': 'haitian creole', 'ha': 'hausa', 'haw': 'hawaiian', 'iw': 'hebrew', 'he': 'hebrew', 'hi': 'hindi', 'hmn': 'hmong', 'hu': 'hungarian', 'is': 'icelandic', 'ig': 'igbo', 'id': 'indonesian', 'ga': 'irish', 'it': 'italian', 'ja': 'japanese', 'jw': 'javanese', 'kn': 'kannada', 'kk': 'kazakh', 'km': 'khmer', 'ko': 'korean', 'ku': 'kurdish (kurmanji)', 'ky': 'kyrgyz', 'lo': 'lao', 'la': 'latin', 'lv': 'latvian', 'lt': 'lithuanian', 'lb': 'luxembourgish', 'mk': 'macedonian', 'mg': 'malagasy', 'ms': 'malay', 'ml': 'malayalam', 'mt': 'maltese', 'mi': 'maori', 'mr': 'marathi', 'mn': 'mongolian', 'my': 'myanmar (burmese)', 'ne': 'nepali', 'no': 'norwegian', 'or': 'odia', 'ps': 'pashto', 'fa': 'persian', 'pl': 'polish', 'pt': 'portuguese', 'pa': 'punjabi', 'ro': 'romanian', 'ru': 'russian', 'sm': 'samoan', 'gd': 'scots gaelic', 'sr': 'serbian', 'st': 'sesotho', 'sn': 'shona', 'sd': 'sindhi', 'si': 'sinhala', 'sk': 'slovak', 'sl': 'slovenian', 'so': 'somali', 'es': 'spanish', 'su': 'sundanese', 'sw': 'swahili', 'sv': 'swedish', 'tg': 'tajik', 'ta': 'tamil', 'te': 'telugu', 'th': 'thai', 'tr': 'turkish', 'uk': 'ukrainian', 'ur': 'urdu', 'ug': 'uyghur', 'uz': 'uzbek', 'vi': 'vietnamese', 'cy': 'welsh', 'xh': 'xhosa', 'yi': 'yiddish', 'yo': 'yoruba', 'zu': 'zulu'}\n"
     ]
    }
   ],
   "source": [
    "import googletrans \n",
    "  \n",
    "  \n",
    "print(googletrans.LANGUAGES) "
   ]
  },
  {
   "cell_type": "code",
   "execution_count": 4,
   "metadata": {},
   "outputs": [
    {
     "ename": "ModuleNotFoundError",
     "evalue": "No module named 'speech_recognition'",
     "output_type": "error",
     "traceback": [
      "\u001b[1;31m---------------------------------------------------------------------------\u001b[0m",
      "\u001b[1;31mModuleNotFoundError\u001b[0m                       Traceback (most recent call last)",
      "\u001b[1;32m<ipython-input-4-55c981123ac2>\u001b[0m in \u001b[0;36m<module>\u001b[1;34m\u001b[0m\n\u001b[1;32m----> 1\u001b[1;33m \u001b[1;32mimport\u001b[0m \u001b[0mspeech_recognition\u001b[0m \u001b[1;32mas\u001b[0m \u001b[0mspr\u001b[0m\u001b[1;33m\u001b[0m\u001b[1;33m\u001b[0m\u001b[0m\n\u001b[0m\u001b[0;32m      2\u001b[0m \u001b[1;32mfrom\u001b[0m \u001b[0mgoogletrans\u001b[0m \u001b[1;32mimport\u001b[0m \u001b[0mTranslator\u001b[0m\u001b[1;33m\u001b[0m\u001b[1;33m\u001b[0m\u001b[0m\n\u001b[0;32m      3\u001b[0m \u001b[1;32mfrom\u001b[0m \u001b[0mgtts\u001b[0m \u001b[1;32mimport\u001b[0m \u001b[0mgTTS\u001b[0m\u001b[1;33m\u001b[0m\u001b[1;33m\u001b[0m\u001b[0m\n\u001b[0;32m      4\u001b[0m \u001b[1;32mimport\u001b[0m \u001b[0mos\u001b[0m\u001b[1;33m\u001b[0m\u001b[1;33m\u001b[0m\u001b[0m\n\u001b[0;32m      5\u001b[0m \u001b[1;33m\u001b[0m\u001b[0m\n",
      "\u001b[1;31mModuleNotFoundError\u001b[0m: No module named 'speech_recognition'"
     ]
    }
   ],
   "source": [
    "import speech_recognition as spr \n",
    "from googletrans import Translator \n",
    "from gtts import gTTS \n",
    "import os \n",
    "  \n",
    "  \n",
    "# Creating Recogniser() class object \n",
    "recog1 = spr.Recognizer() \n",
    "  \n",
    "# Creating microphone instance \n",
    "mc = spr.Microphone() \n",
    "  \n",
    "  \n",
    "# Capture Voice \n",
    "with mc as source: \n",
    "    print(\"Speak 'hello' to initiate the Translation !\") \n",
    "    print(\"~~~~~~~~~~~~~~~~~~~~~~~~~~~~~~~~~~~~~~~~~~~~\") \n",
    "    recog1.adjust_for_ambient_noise(source, duration=0.2) \n",
    "    audio = recog1.listen(source) \n",
    "    MyText = recog1.recognize_google(audio)  \n",
    "    MyText = MyText.lower() \n",
    "  \n",
    "# Here initialising the recorder with  \n",
    "# hello, whatever after that hello it \n",
    "# will recognise it. \n",
    "if 'hello' in MyText: \n",
    "      \n",
    "    # Translator method for translation \n",
    "    translator = Translator() \n",
    "      \n",
    "    # short form of english in which  \n",
    "    # you will speak \n",
    "    from_lang = 'en'\n",
    "      \n",
    "    # In which we want to convert, short  \n",
    "    # form of hindi \n",
    "    to_lang = 'hi'\n",
    "      \n",
    "    with mc as source: \n",
    "          \n",
    "        print(\"Speak a stentence...\") \n",
    "        recog1.adjust_for_ambient_noise(source, duration=0.2) \n",
    "          \n",
    "        # Storing the speech into audio variable \n",
    "        audio = recog1.listen(source) \n",
    "          \n",
    "        # Using recognize.google() method to \n",
    "        # convert audio into text \n",
    "        get_sentence = recog1.recognize_google(audio) \n",
    "  \n",
    "        # Using try and except block to improve \n",
    "        # its efficiency. \n",
    "        try: \n",
    "              \n",
    "            # Printing Speech which need to  \n",
    "            # be translated. \n",
    "            print(\"Phase to be Translated :\"+ get_sentence) \n",
    "  \n",
    "            # Using translate() method which requires  \n",
    "            # three arguments, 1st the sentence which \n",
    "            # needs to be translated 2nd source language \n",
    "            # and 3rd to which we need to translate in  \n",
    "            text_to_translate = translator.translate(get_sentence,  \n",
    "                                                     src= from_lang, \n",
    "                                                     dest= to_lang) \n",
    "              \n",
    "            # Storing the translated text in text  \n",
    "            # variable  \n",
    "            text = text_to_translate.text  \n",
    "  \n",
    "            # Using Google-Text-to-Speech ie, gTTS() method \n",
    "            # to speak the translated text into the  \n",
    "            # destination language which is stored in to_lang. \n",
    "            # Also, we have given 3rd argument as False because \n",
    "            # by default it speaks very slowly \n",
    "            speak = gTTS(text=text, lang=to_lang, slow= False)  \n",
    "  \n",
    "            # Using save() method to save the translated  \n",
    "            # speech in capture_voice.mp3 \n",
    "            speak.save(\"captured_voice.mp3\")      \n",
    "              \n",
    "            # Using OS module to run the translated voice. \n",
    "            os.system(\"start captured_voice.mp3\") \n",
    "  \n",
    "        # Here we are using except block for UnknownValue  \n",
    "        # and Request Error and printing the same to \n",
    "        # provide better service to the user. \n",
    "        except spr.UnknownValueError: \n",
    "            print(\"Unable to Understand the Input\") \n",
    "              \n",
    "        except spr.RequestError as e: \n",
    "            print(\"Unable to provide Required Output\".format(e)) "
   ]
  }
 ],
 "metadata": {
  "kernelspec": {
   "display_name": "Python 3",
   "language": "python",
   "name": "python3"
  },
  "language_info": {
   "codemirror_mode": {
    "name": "ipython",
    "version": 3
   },
   "file_extension": ".py",
   "mimetype": "text/x-python",
   "name": "python",
   "nbconvert_exporter": "python",
   "pygments_lexer": "ipython3",
   "version": "3.7.6"
  }
 },
 "nbformat": 4,
 "nbformat_minor": 4
}
